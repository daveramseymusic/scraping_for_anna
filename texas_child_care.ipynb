{
 "metadata": {
  "language_info": {
   "codemirror_mode": {
    "name": "ipython",
    "version": 3
   },
   "file_extension": ".py",
   "mimetype": "text/x-python",
   "name": "python",
   "nbconvert_exporter": "python",
   "pygments_lexer": "ipython3",
   "version": "3.8.3-final"
  },
  "orig_nbformat": 2,
  "kernelspec": {
   "name": "python38364bit902b0f2fe02241c4ae51475100d5fd14",
   "display_name": "Python 3.8.3 64-bit",
   "language": "python"
  }
 },
 "nbformat": 4,
 "nbformat_minor": 2,
 "cells": [
  {
   "cell_type": "code",
   "execution_count": 3,
   "metadata": {},
   "outputs": [],
   "source": [
    "import pandas as pd\n",
    "import csv"
   ]
  },
  {
   "cell_type": "code",
   "execution_count": 207,
   "metadata": {},
   "outputs": [],
   "source": [
    "# add tx and template:\n",
    "tx = pd.read_csv('ChildCareSearchResults_3.csv')"
   ]
  },
  {
   "cell_type": "code",
   "execution_count": 205,
   "metadata": {},
   "outputs": [],
   "source": [
    "#add munchkin template as temp\n",
    "temp = pd.read_csv('munchkin_template.csv')"
   ]
  },
  {
   "cell_type": "code",
   "execution_count": 208,
   "metadata": {},
   "outputs": [],
   "source": [
    "\n",
    "#turn tx column names to the same:\n",
    "#lowercase everything:\n",
    "col_names = tx.columns\n",
    "col_names = col_names.str.strip().str.lower().str.replace(' ', '_').str.replace('(', '').str.replace(')', '')\n",
    "\n",
    "tx.columns = col_names #resave to tx.columns\n",
    "\n",
    "#replace rename some tx columns\n",
    "tx = tx.rename(columns={'operation/caregiver_name':'school_name', 'phone':'phone_number',\\\n",
    "                   'type':'provider_type', 'email_address':'email'})\n",
    "\n",
    "# df.drop(subset = ['column_name'], axis=1, inplace=true)\n",
    "cols_dropped = ['operation_#','agency_number', 'status', 'issue_date', 'capacity','monitoring_frequency', 'county']\n",
    "tx = tx.drop(cols_dropped, axis=1)"
   ]
  },
  {
   "cell_type": "code",
   "execution_count": 209,
   "metadata": {},
   "outputs": [
    {
     "output_type": "stream",
     "name": "stdout",
     "text": [
      "Index(['school_name', 'address', 'city', 'state', 'zip', 'phone_number',\n       'provider_type', 'email', 'facility_id', 'infant', 'toddler',\n       'preschool', 'school'],\n      dtype='object')\nIndex(['school_name', 'description', 'application_fee', 'phone_number',\n       'email', 'website_url', 'application due date',\n       'is_accepting_applications', 'avg_waitlist_days', 'provider_type',\n       'address', 'city', 'state', 'zip', 'neighborhood', 'ages',\n       'is_full_time', 'has_half_day', 'is_co_op', 'is_part_time', 'hours'],\n      dtype='object')\n"
     ]
    }
   ],
   "source": [
    "print(tx.columns)\n",
    "# print(tx_cl.columns)\n",
    "print(temp.columns)"
   ]
  },
  {
   "cell_type": "code",
   "execution_count": 210,
   "metadata": {},
   "outputs": [],
   "source": [
    "tx_cl = tx"
   ]
  },
  {
   "cell_type": "code",
   "execution_count": 211,
   "metadata": {},
   "outputs": [
    {
     "output_type": "execute_result",
     "data": {
      "text/plain": [
       "                      school_name                     address         city  \\\n",
       "0  K\" Street Learning Center LLC\"                 19290 K ST      SOMERSET   \n",
       "1                    1.2..me Kidz            1222 BABCOCK RD   SAN ANTONIO   \n",
       "2            123 Sunshine Academy         15303 E ANTONE CIR       HOUSTON   \n",
       "3         123-ABC Learning Center        5418 BAKERSFIELD ST   SAN ANTONIO   \n",
       "4       1st International Academy  1609 W HEBRON PKWY STE 104   CARROLLTON   \n",
       "\n",
       "  state      zip  phone_number                         provider_type  \\\n",
       "0    TX  78069.0  830-429-1010  Licensed Center - Child Care Program   \n",
       "1    TX  78201.0  210-310-3990  Licensed Center - Child Care Program   \n",
       "2    TX  77071.0  281-810-9028              Licensed Child-Care Home   \n",
       "3    TX  78228.0  210-432-4895  Licensed Center - Child Care Program   \n",
       "4    TX  75010.0  469-688-5663  Licensed Center - Child Care Program   \n",
       "\n",
       "                              email  facility_id infant toddler preschool  \\\n",
       "0  sylvia@kstreetlearningcenter.com       773628      Y       Y         Y   \n",
       "1               kidz1.2me@yahoo.com      1325841      Y       Y         Y   \n",
       "2                               NaN      1287403      Y       Y         Y   \n",
       "3              lorena123Abc@aol.com      1299948      Y       Y         Y   \n",
       "4               milee8877@gmail.com      1271777      Y       Y         Y   \n",
       "\n",
       "  school  \n",
       "0      Y  \n",
       "1      Y  \n",
       "2      Y  \n",
       "3      Y  \n",
       "4      Y  "
      ],
      "text/html": "<div>\n<style scoped>\n    .dataframe tbody tr th:only-of-type {\n        vertical-align: middle;\n    }\n\n    .dataframe tbody tr th {\n        vertical-align: top;\n    }\n\n    .dataframe thead th {\n        text-align: right;\n    }\n</style>\n<table border=\"1\" class=\"dataframe\">\n  <thead>\n    <tr style=\"text-align: right;\">\n      <th></th>\n      <th>school_name</th>\n      <th>address</th>\n      <th>city</th>\n      <th>state</th>\n      <th>zip</th>\n      <th>phone_number</th>\n      <th>provider_type</th>\n      <th>email</th>\n      <th>facility_id</th>\n      <th>infant</th>\n      <th>toddler</th>\n      <th>preschool</th>\n      <th>school</th>\n    </tr>\n  </thead>\n  <tbody>\n    <tr>\n      <th>0</th>\n      <td>K\" Street Learning Center LLC\"</td>\n      <td>19290 K ST</td>\n      <td>SOMERSET</td>\n      <td>TX</td>\n      <td>78069.0</td>\n      <td>830-429-1010</td>\n      <td>Licensed Center - Child Care Program</td>\n      <td>sylvia@kstreetlearningcenter.com</td>\n      <td>773628</td>\n      <td>Y</td>\n      <td>Y</td>\n      <td>Y</td>\n      <td>Y</td>\n    </tr>\n    <tr>\n      <th>1</th>\n      <td>1.2..me Kidz</td>\n      <td>1222 BABCOCK RD</td>\n      <td>SAN ANTONIO</td>\n      <td>TX</td>\n      <td>78201.0</td>\n      <td>210-310-3990</td>\n      <td>Licensed Center - Child Care Program</td>\n      <td>kidz1.2me@yahoo.com</td>\n      <td>1325841</td>\n      <td>Y</td>\n      <td>Y</td>\n      <td>Y</td>\n      <td>Y</td>\n    </tr>\n    <tr>\n      <th>2</th>\n      <td>123 Sunshine Academy</td>\n      <td>15303 E ANTONE CIR</td>\n      <td>HOUSTON</td>\n      <td>TX</td>\n      <td>77071.0</td>\n      <td>281-810-9028</td>\n      <td>Licensed Child-Care Home</td>\n      <td>NaN</td>\n      <td>1287403</td>\n      <td>Y</td>\n      <td>Y</td>\n      <td>Y</td>\n      <td>Y</td>\n    </tr>\n    <tr>\n      <th>3</th>\n      <td>123-ABC Learning Center</td>\n      <td>5418 BAKERSFIELD ST</td>\n      <td>SAN ANTONIO</td>\n      <td>TX</td>\n      <td>78228.0</td>\n      <td>210-432-4895</td>\n      <td>Licensed Center - Child Care Program</td>\n      <td>lorena123Abc@aol.com</td>\n      <td>1299948</td>\n      <td>Y</td>\n      <td>Y</td>\n      <td>Y</td>\n      <td>Y</td>\n    </tr>\n    <tr>\n      <th>4</th>\n      <td>1st International Academy</td>\n      <td>1609 W HEBRON PKWY STE 104</td>\n      <td>CARROLLTON</td>\n      <td>TX</td>\n      <td>75010.0</td>\n      <td>469-688-5663</td>\n      <td>Licensed Center - Child Care Program</td>\n      <td>milee8877@gmail.com</td>\n      <td>1271777</td>\n      <td>Y</td>\n      <td>Y</td>\n      <td>Y</td>\n      <td>Y</td>\n    </tr>\n  </tbody>\n</table>\n</div>"
     },
     "metadata": {},
     "execution_count": 211
    }
   ],
   "source": [
    "tx_cl.head()"
   ]
  },
  {
   "cell_type": "code",
   "execution_count": 220,
   "metadata": {},
   "outputs": [
    {
     "output_type": "execute_result",
     "data": {
      "text/plain": [
       "   application due date is_accepting_applications  avg_waitlist_days  \\\n",
       "0                   NaN                         t                NaN   \n",
       "1                   NaN                         f                0.0   \n",
       "2                   NaN                         t                NaN   \n",
       "3                   NaN                         t                NaN   \n",
       "4                   NaN                         t                NaN   \n",
       "\n",
       "        provider_type                   address           city state    zip  \\\n",
       "0                 NaN                       NaN            NaN   NaN    NaN   \n",
       "1                 NaN                       NaN            NaN   NaN  33073   \n",
       "2  In home (licensed)    501 Silver Spring Ave.  Silver Spring    MD  20910   \n",
       "3                 NaN  7727 Persimmon Tree Lane       Bethesda    MD  20817   \n",
       "4   daycare/preschool              8611 2nd Ave  Silver Spring    MD    NaN   \n",
       "\n",
       "              neighborhood               ages is_full_time has_half_day  \\\n",
       "0                      NaN                NaN          NaN          NaN   \n",
       "1                      NaN                NaN          NaN          NaN   \n",
       "2                      NaN  18month-preschool            t            t   \n",
       "3                      NaN                NaN          NaN          NaN   \n",
       "4  Down Town Silver Spring      6 weeks-pre-K            t            t   \n",
       "\n",
       "  is_co_op is_part_time      hours  \n",
       "0      NaN          NaN        NaN  \n",
       "1      NaN          NaN        NaN  \n",
       "2        f            t    7am-6pm  \n",
       "3      NaN          NaN        NaN  \n",
       "4        f            t  7:00-6:00  "
      ],
      "text/html": "<div>\n<style scoped>\n    .dataframe tbody tr th:only-of-type {\n        vertical-align: middle;\n    }\n\n    .dataframe tbody tr th {\n        vertical-align: top;\n    }\n\n    .dataframe thead th {\n        text-align: right;\n    }\n</style>\n<table border=\"1\" class=\"dataframe\">\n  <thead>\n    <tr style=\"text-align: right;\">\n      <th></th>\n      <th>application due date</th>\n      <th>is_accepting_applications</th>\n      <th>avg_waitlist_days</th>\n      <th>provider_type</th>\n      <th>address</th>\n      <th>city</th>\n      <th>state</th>\n      <th>zip</th>\n      <th>neighborhood</th>\n      <th>ages</th>\n      <th>is_full_time</th>\n      <th>has_half_day</th>\n      <th>is_co_op</th>\n      <th>is_part_time</th>\n      <th>hours</th>\n    </tr>\n  </thead>\n  <tbody>\n    <tr>\n      <th>0</th>\n      <td>NaN</td>\n      <td>t</td>\n      <td>NaN</td>\n      <td>NaN</td>\n      <td>NaN</td>\n      <td>NaN</td>\n      <td>NaN</td>\n      <td>NaN</td>\n      <td>NaN</td>\n      <td>NaN</td>\n      <td>NaN</td>\n      <td>NaN</td>\n      <td>NaN</td>\n      <td>NaN</td>\n      <td>NaN</td>\n    </tr>\n    <tr>\n      <th>1</th>\n      <td>NaN</td>\n      <td>f</td>\n      <td>0.0</td>\n      <td>NaN</td>\n      <td>NaN</td>\n      <td>NaN</td>\n      <td>NaN</td>\n      <td>33073</td>\n      <td>NaN</td>\n      <td>NaN</td>\n      <td>NaN</td>\n      <td>NaN</td>\n      <td>NaN</td>\n      <td>NaN</td>\n      <td>NaN</td>\n    </tr>\n    <tr>\n      <th>2</th>\n      <td>NaN</td>\n      <td>t</td>\n      <td>NaN</td>\n      <td>In home (licensed)</td>\n      <td>501 Silver Spring Ave.</td>\n      <td>Silver Spring</td>\n      <td>MD</td>\n      <td>20910</td>\n      <td>NaN</td>\n      <td>18month-preschool</td>\n      <td>t</td>\n      <td>t</td>\n      <td>f</td>\n      <td>t</td>\n      <td>7am-6pm</td>\n    </tr>\n    <tr>\n      <th>3</th>\n      <td>NaN</td>\n      <td>t</td>\n      <td>NaN</td>\n      <td>NaN</td>\n      <td>7727 Persimmon Tree Lane</td>\n      <td>Bethesda</td>\n      <td>MD</td>\n      <td>20817</td>\n      <td>NaN</td>\n      <td>NaN</td>\n      <td>NaN</td>\n      <td>NaN</td>\n      <td>NaN</td>\n      <td>NaN</td>\n      <td>NaN</td>\n    </tr>\n    <tr>\n      <th>4</th>\n      <td>NaN</td>\n      <td>t</td>\n      <td>NaN</td>\n      <td>daycare/preschool</td>\n      <td>8611 2nd Ave</td>\n      <td>Silver Spring</td>\n      <td>MD</td>\n      <td>NaN</td>\n      <td>Down Town Silver Spring</td>\n      <td>6 weeks-pre-K</td>\n      <td>t</td>\n      <td>t</td>\n      <td>f</td>\n      <td>t</td>\n      <td>7:00-6:00</td>\n    </tr>\n  </tbody>\n</table>\n</div>"
     },
     "metadata": {},
     "execution_count": 220
    }
   ],
   "source": [
    "temp.iloc[:5, 6:]"
   ]
  },
  {
   "cell_type": "code",
   "execution_count": 213,
   "metadata": {},
   "outputs": [],
   "source": [
    "#create col list\n",
    "age_cols = ['infant', 'toddler', 'preschool', 'school', 'facility_id']\n",
    "\n",
    "#combine infant,toddler,preschool... into one columnn what says which children the school accepts\n",
    "\n",
    "tx_cl['ages'] = tx_cl[age_cols].apply(lambda x: ','.join(x.index[x == 'Y']), axis=1)\n"
   ]
  },
  {
   "cell_type": "code",
   "execution_count": 214,
   "metadata": {},
   "outputs": [],
   "source": [
    "#get drop all age_cols:\n",
    "tx_cl = tx_cl.drop(age_cols, axis=1)"
   ]
  },
  {
   "cell_type": "code",
   "execution_count": 231,
   "metadata": {},
   "outputs": [],
   "source": [
    "# rearrange tx_cl columns to be in the same order as \n",
    "tx_cl = tx_cl[['school_name', 'phone_number', 'email', 'provider_type', 'address', 'city', 'state', 'zip','ages']]"
   ]
  },
  {
   "source": [
    "## Format any columns that don't match"
   ],
   "cell_type": "markdown",
   "metadata": {}
  },
  {
   "cell_type": "code",
   "execution_count": 234,
   "metadata": {},
   "outputs": [
    {
     "output_type": "execute_result",
     "data": {
      "text/plain": [
       "0        TX\n",
       "1        TX\n",
       "2        TX\n",
       "3        TX\n",
       "4        TX\n",
       "         ..\n",
       "13187    TX\n",
       "13188    TX\n",
       "13189    TX\n",
       "13190    TX\n",
       "13191    TX\n",
       "Name: state, Length: 13192, dtype: object"
      ]
     },
     "metadata": {},
     "execution_count": 234
    }
   ],
   "source": [
    "#format the columns all columns into title case to match template\n",
    "# tx_cl.str.title()\n",
    "\n",
    "tx_cl.apply(lambda x: x.astype(str).str.title())\n",
    "\n",
    "# turn the state column back into UPPER\n",
    "tx_cl.state.astype(str).str.upper()\n"
   ]
  },
  {
   "source": [
    "#change \"operation\" to \"school_name\"\n",
    "#List of things to fix:\n",
    "#CHECK ages\n",
    "#CHECK put in order\n",
    "\n",
    "#List of cols I need to scrape still:\n",
    "\n",
    "#1. application_fee\n",
    "#2. website\n",
    "#3. 'application due date'\n",
    "#4. is_accepting_applications\n",
    "#5. avg_waitlist_days\n",
    "#6. provider_type\n",
    "#7. neighborhood\n",
    "#8. is_full_time\n",
    "#9. has_half_day\n",
    "#10. is_co_op\n",
    "#11. is_part_time( do last)\n",
    "#12. bring county down to neighborhood\n",
    "#13. melt ages with preschool toddler...\n",
    "#14. get the hours\n",
    "\n",
    "\n",
    "\n",
    "#Q'S FOR ANNA: \n",
    "# half day vs part time?\n",
    "#\n"
   ],
   "cell_type": "code",
   "metadata": {},
   "execution_count": null,
   "outputs": []
  },
  {
   "cell_type": "code",
   "execution_count": null,
   "metadata": {},
   "outputs": [],
   "source": []
  }
 ]
}