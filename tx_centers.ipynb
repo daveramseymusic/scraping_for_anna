{
 "metadata": {
  "language_info": {
   "codemirror_mode": {
    "name": "ipython",
    "version": 3
   },
   "file_extension": ".py",
   "mimetype": "text/x-python",
   "name": "python",
   "nbconvert_exporter": "python",
   "pygments_lexer": "ipython3",
   "version": "3.8.3-final"
  },
  "orig_nbformat": 2,
  "kernelspec": {
   "name": "python38364bit902b0f2fe02241c4ae51475100d5fd14",
   "display_name": "Python 3.8.3 64-bit",
   "language": "python"
  }
 },
 "nbformat": 4,
 "nbformat_minor": 2,
 "cells": [
  {
   "cell_type": "code",
   "execution_count": 107,
   "metadata": {},
   "outputs": [],
   "source": [
    "import pandas as pd\n",
    "import csv\n",
    "import numpy as np"
   ]
  },
  {
   "cell_type": "code",
   "execution_count": 6,
   "metadata": {},
   "outputs": [],
   "source": [
    "# add tx and template:\n",
    "tx = pd.read_csv('ChildCareSearchResults_3.csv')"
   ]
  },
  {
   "cell_type": "code",
   "execution_count": 7,
   "metadata": {},
   "outputs": [
    {
     "output_type": "execute_result",
     "data": {
      "text/plain": [
       "                             school_name description  application_fee  \\\n",
       "0        Keshet Child Development Center         NaN             50.0   \n",
       "1     CHESTERBROOK ACADEMY COCONUT CREEK         NaN              NaN   \n",
       "2          Vibrantots Daycare/Pre-school         NaN             50.0   \n",
       "3  Kids Adventures Academy - Adat Shalom         NaN             50.0   \n",
       "4                     The Goddard School         NaN             50.0   \n",
       "\n",
       "   phone_number                              email         website_url  \\\n",
       "0  703-535-5525                keshetcdc@yahoo.com   www.keshetcdc.com   \n",
       "1  954-574-9711                                NaN                 NaN   \n",
       "2  716-796-9397                                NaN      vibrantots.org   \n",
       "3  240-678-6964           ptael@kidsadventures.com  kidsadventures.com   \n",
       "4  301-830-4505  silverspringMD@goddardschools.com                 NaN   \n",
       "\n",
       "   application due date is_accepting_applications  avg_waitlist_days  \\\n",
       "0                   NaN                         t                NaN   \n",
       "1                   NaN                         f                0.0   \n",
       "2                   NaN                         t                NaN   \n",
       "3                   NaN                         t                NaN   \n",
       "4                   NaN                         t                NaN   \n",
       "\n",
       "        provider_type  ...           city state    zip  \\\n",
       "0                 NaN  ...            NaN   NaN    NaN   \n",
       "1                 NaN  ...            NaN   NaN  33073   \n",
       "2  In home (licensed)  ...  Silver Spring    MD  20910   \n",
       "3                 NaN  ...       Bethesda    MD  20817   \n",
       "4   daycare/preschool  ...  Silver Spring    MD    NaN   \n",
       "\n",
       "              neighborhood               ages is_full_time has_half_day  \\\n",
       "0                      NaN                NaN          NaN          NaN   \n",
       "1                      NaN                NaN          NaN          NaN   \n",
       "2                      NaN  18month-preschool            t            t   \n",
       "3                      NaN                NaN          NaN          NaN   \n",
       "4  Down Town Silver Spring      6 weeks-pre-K            t            t   \n",
       "\n",
       "  is_co_op is_part_time      hours  \n",
       "0      NaN          NaN        NaN  \n",
       "1      NaN          NaN        NaN  \n",
       "2        f            t    7am-6pm  \n",
       "3      NaN          NaN        NaN  \n",
       "4        f            t  7:00-6:00  \n",
       "\n",
       "[5 rows x 21 columns]"
      ],
      "text/html": "<div>\n<style scoped>\n    .dataframe tbody tr th:only-of-type {\n        vertical-align: middle;\n    }\n\n    .dataframe tbody tr th {\n        vertical-align: top;\n    }\n\n    .dataframe thead th {\n        text-align: right;\n    }\n</style>\n<table border=\"1\" class=\"dataframe\">\n  <thead>\n    <tr style=\"text-align: right;\">\n      <th></th>\n      <th>school_name</th>\n      <th>description</th>\n      <th>application_fee</th>\n      <th>phone_number</th>\n      <th>email</th>\n      <th>website_url</th>\n      <th>application due date</th>\n      <th>is_accepting_applications</th>\n      <th>avg_waitlist_days</th>\n      <th>provider_type</th>\n      <th>...</th>\n      <th>city</th>\n      <th>state</th>\n      <th>zip</th>\n      <th>neighborhood</th>\n      <th>ages</th>\n      <th>is_full_time</th>\n      <th>has_half_day</th>\n      <th>is_co_op</th>\n      <th>is_part_time</th>\n      <th>hours</th>\n    </tr>\n  </thead>\n  <tbody>\n    <tr>\n      <th>0</th>\n      <td>Keshet Child Development Center</td>\n      <td>NaN</td>\n      <td>50.0</td>\n      <td>703-535-5525</td>\n      <td>keshetcdc@yahoo.com</td>\n      <td>www.keshetcdc.com</td>\n      <td>NaN</td>\n      <td>t</td>\n      <td>NaN</td>\n      <td>NaN</td>\n      <td>...</td>\n      <td>NaN</td>\n      <td>NaN</td>\n      <td>NaN</td>\n      <td>NaN</td>\n      <td>NaN</td>\n      <td>NaN</td>\n      <td>NaN</td>\n      <td>NaN</td>\n      <td>NaN</td>\n      <td>NaN</td>\n    </tr>\n    <tr>\n      <th>1</th>\n      <td>CHESTERBROOK ACADEMY COCONUT CREEK</td>\n      <td>NaN</td>\n      <td>NaN</td>\n      <td>954-574-9711</td>\n      <td>NaN</td>\n      <td>NaN</td>\n      <td>NaN</td>\n      <td>f</td>\n      <td>0.0</td>\n      <td>NaN</td>\n      <td>...</td>\n      <td>NaN</td>\n      <td>NaN</td>\n      <td>33073</td>\n      <td>NaN</td>\n      <td>NaN</td>\n      <td>NaN</td>\n      <td>NaN</td>\n      <td>NaN</td>\n      <td>NaN</td>\n      <td>NaN</td>\n    </tr>\n    <tr>\n      <th>2</th>\n      <td>Vibrantots Daycare/Pre-school</td>\n      <td>NaN</td>\n      <td>50.0</td>\n      <td>716-796-9397</td>\n      <td>NaN</td>\n      <td>vibrantots.org</td>\n      <td>NaN</td>\n      <td>t</td>\n      <td>NaN</td>\n      <td>In home (licensed)</td>\n      <td>...</td>\n      <td>Silver Spring</td>\n      <td>MD</td>\n      <td>20910</td>\n      <td>NaN</td>\n      <td>18month-preschool</td>\n      <td>t</td>\n      <td>t</td>\n      <td>f</td>\n      <td>t</td>\n      <td>7am-6pm</td>\n    </tr>\n    <tr>\n      <th>3</th>\n      <td>Kids Adventures Academy - Adat Shalom</td>\n      <td>NaN</td>\n      <td>50.0</td>\n      <td>240-678-6964</td>\n      <td>ptael@kidsadventures.com</td>\n      <td>kidsadventures.com</td>\n      <td>NaN</td>\n      <td>t</td>\n      <td>NaN</td>\n      <td>NaN</td>\n      <td>...</td>\n      <td>Bethesda</td>\n      <td>MD</td>\n      <td>20817</td>\n      <td>NaN</td>\n      <td>NaN</td>\n      <td>NaN</td>\n      <td>NaN</td>\n      <td>NaN</td>\n      <td>NaN</td>\n      <td>NaN</td>\n    </tr>\n    <tr>\n      <th>4</th>\n      <td>The Goddard School</td>\n      <td>NaN</td>\n      <td>50.0</td>\n      <td>301-830-4505</td>\n      <td>silverspringMD@goddardschools.com</td>\n      <td>NaN</td>\n      <td>NaN</td>\n      <td>t</td>\n      <td>NaN</td>\n      <td>daycare/preschool</td>\n      <td>...</td>\n      <td>Silver Spring</td>\n      <td>MD</td>\n      <td>NaN</td>\n      <td>Down Town Silver Spring</td>\n      <td>6 weeks-pre-K</td>\n      <td>t</td>\n      <td>t</td>\n      <td>f</td>\n      <td>t</td>\n      <td>7:00-6:00</td>\n    </tr>\n  </tbody>\n</table>\n<p>5 rows × 21 columns</p>\n</div>"
     },
     "metadata": {},
     "execution_count": 7
    }
   ],
   "source": [
    "#add munchkin template as temp\n",
    "temp = pd.read_csv('munchkin_template.csv')\n",
    "temp.head()"
   ]
  },
  {
   "cell_type": "code",
   "execution_count": 8,
   "metadata": {},
   "outputs": [],
   "source": [
    "\n",
    "#turn tx column names to the same:\n",
    "#lowercase everything:\n",
    "col_names = tx.columns\n",
    "col_names = col_names.str.strip().str.lower().str.replace(' ', '_').str.replace('(', '').str.replace(')', '')\n",
    "\n",
    "tx.columns = col_names #resave to tx.columns\n",
    "\n",
    "#replace rename some tx columns\n",
    "tx = tx.rename(columns={'operation/caregiver_name':'school_name', 'phone':'phone_number',\\\n",
    "                   'type':'provider_type', 'email_address':'email'})\n",
    "\n",
    "# df.drop(subset = ['column_name'], axis=1, inplace=true)\n",
    "cols_dropped = ['agency_number', 'status', 'issue_date', 'capacity','monitoring_frequency', 'county']\n",
    "tx = tx.drop(cols_dropped, axis=1)"
   ]
  },
  {
   "cell_type": "code",
   "execution_count": 9,
   "metadata": {},
   "outputs": [
    {
     "output_type": "stream",
     "name": "stdout",
     "text": [
      "Index(['operation_#', 'school_name', 'address', 'city', 'state', 'zip',\n       'phone_number', 'provider_type', 'email', 'facility_id', 'infant',\n       'toddler', 'preschool', 'school'],\n      dtype='object')\nIndex(['school_name', 'description', 'application_fee', 'phone_number',\n       'email', 'website_url', 'application due date',\n       'is_accepting_applications', 'avg_waitlist_days', 'provider_type',\n       'address', 'city', 'state', 'zip', 'neighborhood', 'ages',\n       'is_full_time', 'has_half_day', 'is_co_op', 'is_part_time', 'hours'],\n      dtype='object')\n"
     ]
    }
   ],
   "source": [
    "print(tx.columns)\n",
    "# print(tx_cl.columns)\n",
    "print(temp.columns)"
   ]
  },
  {
   "cell_type": "code",
   "execution_count": 14,
   "metadata": {},
   "outputs": [],
   "source": [
    "tx_cl = tx"
   ]
  },
  {
   "cell_type": "code",
   "execution_count": 11,
   "metadata": {},
   "outputs": [
    {
     "output_type": "execute_result",
     "data": {
      "text/plain": [
       "   operation_#                     school_name                     address  \\\n",
       "0      1239246  K\" Street Learning Center LLC\"                 19290 K ST    \n",
       "1      1687698                    1.2..me Kidz            1222 BABCOCK RD    \n",
       "2      1660660            123 Sunshine Academy         15303 E ANTONE CIR    \n",
       "3      1669438         123-ABC Learning Center        5418 BAKERSFIELD ST    \n",
       "4      1648324       1st International Academy  1609 W HEBRON PKWY STE 104   \n",
       "\n",
       "          city state      zip  phone_number  \\\n",
       "0     SOMERSET    TX  78069.0  830-429-1010   \n",
       "1  SAN ANTONIO    TX  78201.0  210-310-3990   \n",
       "2      HOUSTON    TX  77071.0  281-810-9028   \n",
       "3  SAN ANTONIO    TX  78228.0  210-432-4895   \n",
       "4   CARROLLTON    TX  75010.0  469-688-5663   \n",
       "\n",
       "                          provider_type                             email  \\\n",
       "0  Licensed Center - Child Care Program  sylvia@kstreetlearningcenter.com   \n",
       "1  Licensed Center - Child Care Program               kidz1.2me@yahoo.com   \n",
       "2              Licensed Child-Care Home                               NaN   \n",
       "3  Licensed Center - Child Care Program              lorena123Abc@aol.com   \n",
       "4  Licensed Center - Child Care Program               milee8877@gmail.com   \n",
       "\n",
       "   facility_id infant toddler preschool school  \n",
       "0       773628      Y       Y         Y      Y  \n",
       "1      1325841      Y       Y         Y      Y  \n",
       "2      1287403      Y       Y         Y      Y  \n",
       "3      1299948      Y       Y         Y      Y  \n",
       "4      1271777      Y       Y         Y      Y  "
      ],
      "text/html": "<div>\n<style scoped>\n    .dataframe tbody tr th:only-of-type {\n        vertical-align: middle;\n    }\n\n    .dataframe tbody tr th {\n        vertical-align: top;\n    }\n\n    .dataframe thead th {\n        text-align: right;\n    }\n</style>\n<table border=\"1\" class=\"dataframe\">\n  <thead>\n    <tr style=\"text-align: right;\">\n      <th></th>\n      <th>operation_#</th>\n      <th>school_name</th>\n      <th>address</th>\n      <th>city</th>\n      <th>state</th>\n      <th>zip</th>\n      <th>phone_number</th>\n      <th>provider_type</th>\n      <th>email</th>\n      <th>facility_id</th>\n      <th>infant</th>\n      <th>toddler</th>\n      <th>preschool</th>\n      <th>school</th>\n    </tr>\n  </thead>\n  <tbody>\n    <tr>\n      <th>0</th>\n      <td>1239246</td>\n      <td>K\" Street Learning Center LLC\"</td>\n      <td>19290 K ST</td>\n      <td>SOMERSET</td>\n      <td>TX</td>\n      <td>78069.0</td>\n      <td>830-429-1010</td>\n      <td>Licensed Center - Child Care Program</td>\n      <td>sylvia@kstreetlearningcenter.com</td>\n      <td>773628</td>\n      <td>Y</td>\n      <td>Y</td>\n      <td>Y</td>\n      <td>Y</td>\n    </tr>\n    <tr>\n      <th>1</th>\n      <td>1687698</td>\n      <td>1.2..me Kidz</td>\n      <td>1222 BABCOCK RD</td>\n      <td>SAN ANTONIO</td>\n      <td>TX</td>\n      <td>78201.0</td>\n      <td>210-310-3990</td>\n      <td>Licensed Center - Child Care Program</td>\n      <td>kidz1.2me@yahoo.com</td>\n      <td>1325841</td>\n      <td>Y</td>\n      <td>Y</td>\n      <td>Y</td>\n      <td>Y</td>\n    </tr>\n    <tr>\n      <th>2</th>\n      <td>1660660</td>\n      <td>123 Sunshine Academy</td>\n      <td>15303 E ANTONE CIR</td>\n      <td>HOUSTON</td>\n      <td>TX</td>\n      <td>77071.0</td>\n      <td>281-810-9028</td>\n      <td>Licensed Child-Care Home</td>\n      <td>NaN</td>\n      <td>1287403</td>\n      <td>Y</td>\n      <td>Y</td>\n      <td>Y</td>\n      <td>Y</td>\n    </tr>\n    <tr>\n      <th>3</th>\n      <td>1669438</td>\n      <td>123-ABC Learning Center</td>\n      <td>5418 BAKERSFIELD ST</td>\n      <td>SAN ANTONIO</td>\n      <td>TX</td>\n      <td>78228.0</td>\n      <td>210-432-4895</td>\n      <td>Licensed Center - Child Care Program</td>\n      <td>lorena123Abc@aol.com</td>\n      <td>1299948</td>\n      <td>Y</td>\n      <td>Y</td>\n      <td>Y</td>\n      <td>Y</td>\n    </tr>\n    <tr>\n      <th>4</th>\n      <td>1648324</td>\n      <td>1st International Academy</td>\n      <td>1609 W HEBRON PKWY STE 104</td>\n      <td>CARROLLTON</td>\n      <td>TX</td>\n      <td>75010.0</td>\n      <td>469-688-5663</td>\n      <td>Licensed Center - Child Care Program</td>\n      <td>milee8877@gmail.com</td>\n      <td>1271777</td>\n      <td>Y</td>\n      <td>Y</td>\n      <td>Y</td>\n      <td>Y</td>\n    </tr>\n  </tbody>\n</table>\n</div>"
     },
     "metadata": {},
     "execution_count": 11
    }
   ],
   "source": [
    "tx_cl.head()"
   ]
  },
  {
   "cell_type": "code",
   "execution_count": 141,
   "metadata": {},
   "outputs": [
    {
     "output_type": "execute_result",
     "data": {
      "text/plain": [
       "school_name                   object\n",
       "description                   object\n",
       "application_fee              float64\n",
       "phone_number                  object\n",
       "email                         object\n",
       "website_url                   object\n",
       "application due date         float64\n",
       "is_accepting_applications     object\n",
       "avg_waitlist_days            float64\n",
       "provider_type                 object\n",
       "address                       object\n",
       "city                          object\n",
       "state                         object\n",
       "zip                           object\n",
       "neighborhood                  object\n",
       "ages                          object\n",
       "is_full_time                  object\n",
       "has_half_day                  object\n",
       "is_co_op                      object\n",
       "is_part_time                  object\n",
       "hours                         object\n",
       "dtype: object"
      ]
     },
     "metadata": {},
     "execution_count": 141
    }
   ],
   "source": [
    "# temp.iloc[20:40, :]\n",
    "\n",
    "temp.dtypes"
   ]
  },
  {
   "source": [
    "temp[temp['application due date'].isnull()]"
   ],
   "cell_type": "code",
   "metadata": {},
   "execution_count": 146,
   "outputs": [
    {
     "output_type": "execute_result",
     "data": {
      "text/plain": [
       "                                             school_name description  \\\n",
       "0                        Keshet Child Development Center         NaN   \n",
       "1                     CHESTERBROOK ACADEMY COCONUT CREEK         NaN   \n",
       "2                          Vibrantots Daycare/Pre-school         NaN   \n",
       "3                  Kids Adventures Academy - Adat Shalom         NaN   \n",
       "4                                     The Goddard School         NaN   \n",
       "...                                                  ...         ...   \n",
       "12352                MOORE'S DAY CARE PREPARATORY SCHOOL         NaN   \n",
       "12353  LAKEVIEW CHILD CARE CENTER CITY OF SANTA FE SP...         NaN   \n",
       "12354           BRIGHT STEP, INCORPORATED DBA BEGINNINGS         NaN   \n",
       "12355  CHILDREN'S CREATIVE LEARNING CENTERS AT EA - (...         NaN   \n",
       "12356                SAN FERNANDO EARLY EDUCATION CENTER         NaN   \n",
       "\n",
       "       application_fee  phone_number                              email  \\\n",
       "0                 50.0  703-535-5525                keshetcdc@yahoo.com   \n",
       "1                  NaN  954-574-9711                                NaN   \n",
       "2                 50.0  716-796-9397                                NaN   \n",
       "3                 50.0  240-678-6964           ptael@kidsadventures.com   \n",
       "4                 50.0  301-830-4505  silverspringMD@goddardschools.com   \n",
       "...                ...           ...                                ...   \n",
       "12352              NaN  323-242-9500                                NaN   \n",
       "12353              NaN  562-868-9851                                NaN   \n",
       "12354              NaN  310-828-0858                                NaN   \n",
       "12355              NaN  650-628-2949                                NaN   \n",
       "12356              NaN  818-365-9105                                NaN   \n",
       "\n",
       "              website_url  application due date is_accepting_applications  \\\n",
       "0       www.keshetcdc.com                   NaN                         t   \n",
       "1                     NaN                   NaN                         f   \n",
       "2          vibrantots.org                   NaN                         t   \n",
       "3      kidsadventures.com                   NaN                         t   \n",
       "4                     NaN                   NaN                         t   \n",
       "...                   ...                   ...                       ...   \n",
       "12352                 NaN                   NaN                         f   \n",
       "12353                 NaN                   NaN                         f   \n",
       "12354                 NaN                   NaN                         f   \n",
       "12355                 NaN                   NaN                         f   \n",
       "12356                 NaN                   NaN                         f   \n",
       "\n",
       "       avg_waitlist_days       provider_type  ...           city state    zip  \\\n",
       "0                    NaN                 NaN  ...            NaN   NaN    NaN   \n",
       "1                    0.0                 NaN  ...            NaN   NaN  33073   \n",
       "2                    NaN  In home (licensed)  ...  Silver Spring    MD  20910   \n",
       "3                    NaN                 NaN  ...       Bethesda    MD  20817   \n",
       "4                    NaN   daycare/preschool  ...  Silver Spring    MD    NaN   \n",
       "...                  ...                 ...  ...            ...   ...    ...   \n",
       "12352                0.0                 NaN  ...            NaN   NaN  90250   \n",
       "12353                0.0                 NaN  ...            NaN   NaN  90670   \n",
       "12354                0.0                 NaN  ...            NaN   NaN  91601   \n",
       "12355                0.0                 NaN  ...            NaN   NaN  94065   \n",
       "12356                0.0                 NaN  ...            NaN   NaN  91340   \n",
       "\n",
       "                  neighborhood               ages is_full_time has_half_day  \\\n",
       "0                          NaN                NaN          NaN          NaN   \n",
       "1                          NaN                NaN          NaN          NaN   \n",
       "2                          NaN  18month-preschool            t            t   \n",
       "3                          NaN                NaN          NaN          NaN   \n",
       "4      Down Town Silver Spring      6 weeks-pre-K            t            t   \n",
       "...                        ...                ...          ...          ...   \n",
       "12352                      NaN                NaN          NaN          NaN   \n",
       "12353                      NaN                NaN          NaN          NaN   \n",
       "12354                      NaN                NaN          NaN          NaN   \n",
       "12355                      NaN                NaN          NaN          NaN   \n",
       "12356                      NaN                NaN          NaN          NaN   \n",
       "\n",
       "      is_co_op is_part_time      hours  \n",
       "0          NaN          NaN        NaN  \n",
       "1          NaN          NaN        NaN  \n",
       "2            f            t    7am-6pm  \n",
       "3          NaN          NaN        NaN  \n",
       "4            f            t  7:00-6:00  \n",
       "...        ...          ...        ...  \n",
       "12352      NaN          NaN        NaN  \n",
       "12353      NaN          NaN        NaN  \n",
       "12354      NaN          NaN        NaN  \n",
       "12355      NaN          NaN        NaN  \n",
       "12356      NaN          NaN        NaN  \n",
       "\n",
       "[12357 rows x 21 columns]"
      ],
      "text/html": "<div>\n<style scoped>\n    .dataframe tbody tr th:only-of-type {\n        vertical-align: middle;\n    }\n\n    .dataframe tbody tr th {\n        vertical-align: top;\n    }\n\n    .dataframe thead th {\n        text-align: right;\n    }\n</style>\n<table border=\"1\" class=\"dataframe\">\n  <thead>\n    <tr style=\"text-align: right;\">\n      <th></th>\n      <th>school_name</th>\n      <th>description</th>\n      <th>application_fee</th>\n      <th>phone_number</th>\n      <th>email</th>\n      <th>website_url</th>\n      <th>application due date</th>\n      <th>is_accepting_applications</th>\n      <th>avg_waitlist_days</th>\n      <th>provider_type</th>\n      <th>...</th>\n      <th>city</th>\n      <th>state</th>\n      <th>zip</th>\n      <th>neighborhood</th>\n      <th>ages</th>\n      <th>is_full_time</th>\n      <th>has_half_day</th>\n      <th>is_co_op</th>\n      <th>is_part_time</th>\n      <th>hours</th>\n    </tr>\n  </thead>\n  <tbody>\n    <tr>\n      <th>0</th>\n      <td>Keshet Child Development Center</td>\n      <td>NaN</td>\n      <td>50.0</td>\n      <td>703-535-5525</td>\n      <td>keshetcdc@yahoo.com</td>\n      <td>www.keshetcdc.com</td>\n      <td>NaN</td>\n      <td>t</td>\n      <td>NaN</td>\n      <td>NaN</td>\n      <td>...</td>\n      <td>NaN</td>\n      <td>NaN</td>\n      <td>NaN</td>\n      <td>NaN</td>\n      <td>NaN</td>\n      <td>NaN</td>\n      <td>NaN</td>\n      <td>NaN</td>\n      <td>NaN</td>\n      <td>NaN</td>\n    </tr>\n    <tr>\n      <th>1</th>\n      <td>CHESTERBROOK ACADEMY COCONUT CREEK</td>\n      <td>NaN</td>\n      <td>NaN</td>\n      <td>954-574-9711</td>\n      <td>NaN</td>\n      <td>NaN</td>\n      <td>NaN</td>\n      <td>f</td>\n      <td>0.0</td>\n      <td>NaN</td>\n      <td>...</td>\n      <td>NaN</td>\n      <td>NaN</td>\n      <td>33073</td>\n      <td>NaN</td>\n      <td>NaN</td>\n      <td>NaN</td>\n      <td>NaN</td>\n      <td>NaN</td>\n      <td>NaN</td>\n      <td>NaN</td>\n    </tr>\n    <tr>\n      <th>2</th>\n      <td>Vibrantots Daycare/Pre-school</td>\n      <td>NaN</td>\n      <td>50.0</td>\n      <td>716-796-9397</td>\n      <td>NaN</td>\n      <td>vibrantots.org</td>\n      <td>NaN</td>\n      <td>t</td>\n      <td>NaN</td>\n      <td>In home (licensed)</td>\n      <td>...</td>\n      <td>Silver Spring</td>\n      <td>MD</td>\n      <td>20910</td>\n      <td>NaN</td>\n      <td>18month-preschool</td>\n      <td>t</td>\n      <td>t</td>\n      <td>f</td>\n      <td>t</td>\n      <td>7am-6pm</td>\n    </tr>\n    <tr>\n      <th>3</th>\n      <td>Kids Adventures Academy - Adat Shalom</td>\n      <td>NaN</td>\n      <td>50.0</td>\n      <td>240-678-6964</td>\n      <td>ptael@kidsadventures.com</td>\n      <td>kidsadventures.com</td>\n      <td>NaN</td>\n      <td>t</td>\n      <td>NaN</td>\n      <td>NaN</td>\n      <td>...</td>\n      <td>Bethesda</td>\n      <td>MD</td>\n      <td>20817</td>\n      <td>NaN</td>\n      <td>NaN</td>\n      <td>NaN</td>\n      <td>NaN</td>\n      <td>NaN</td>\n      <td>NaN</td>\n      <td>NaN</td>\n    </tr>\n    <tr>\n      <th>4</th>\n      <td>The Goddard School</td>\n      <td>NaN</td>\n      <td>50.0</td>\n      <td>301-830-4505</td>\n      <td>silverspringMD@goddardschools.com</td>\n      <td>NaN</td>\n      <td>NaN</td>\n      <td>t</td>\n      <td>NaN</td>\n      <td>daycare/preschool</td>\n      <td>...</td>\n      <td>Silver Spring</td>\n      <td>MD</td>\n      <td>NaN</td>\n      <td>Down Town Silver Spring</td>\n      <td>6 weeks-pre-K</td>\n      <td>t</td>\n      <td>t</td>\n      <td>f</td>\n      <td>t</td>\n      <td>7:00-6:00</td>\n    </tr>\n    <tr>\n      <th>...</th>\n      <td>...</td>\n      <td>...</td>\n      <td>...</td>\n      <td>...</td>\n      <td>...</td>\n      <td>...</td>\n      <td>...</td>\n      <td>...</td>\n      <td>...</td>\n      <td>...</td>\n      <td>...</td>\n      <td>...</td>\n      <td>...</td>\n      <td>...</td>\n      <td>...</td>\n      <td>...</td>\n      <td>...</td>\n      <td>...</td>\n      <td>...</td>\n      <td>...</td>\n      <td>...</td>\n    </tr>\n    <tr>\n      <th>12352</th>\n      <td>MOORE'S DAY CARE PREPARATORY SCHOOL</td>\n      <td>NaN</td>\n      <td>NaN</td>\n      <td>323-242-9500</td>\n      <td>NaN</td>\n      <td>NaN</td>\n      <td>NaN</td>\n      <td>f</td>\n      <td>0.0</td>\n      <td>NaN</td>\n      <td>...</td>\n      <td>NaN</td>\n      <td>NaN</td>\n      <td>90250</td>\n      <td>NaN</td>\n      <td>NaN</td>\n      <td>NaN</td>\n      <td>NaN</td>\n      <td>NaN</td>\n      <td>NaN</td>\n      <td>NaN</td>\n    </tr>\n    <tr>\n      <th>12353</th>\n      <td>LAKEVIEW CHILD CARE CENTER CITY OF SANTA FE SP...</td>\n      <td>NaN</td>\n      <td>NaN</td>\n      <td>562-868-9851</td>\n      <td>NaN</td>\n      <td>NaN</td>\n      <td>NaN</td>\n      <td>f</td>\n      <td>0.0</td>\n      <td>NaN</td>\n      <td>...</td>\n      <td>NaN</td>\n      <td>NaN</td>\n      <td>90670</td>\n      <td>NaN</td>\n      <td>NaN</td>\n      <td>NaN</td>\n      <td>NaN</td>\n      <td>NaN</td>\n      <td>NaN</td>\n      <td>NaN</td>\n    </tr>\n    <tr>\n      <th>12354</th>\n      <td>BRIGHT STEP, INCORPORATED DBA BEGINNINGS</td>\n      <td>NaN</td>\n      <td>NaN</td>\n      <td>310-828-0858</td>\n      <td>NaN</td>\n      <td>NaN</td>\n      <td>NaN</td>\n      <td>f</td>\n      <td>0.0</td>\n      <td>NaN</td>\n      <td>...</td>\n      <td>NaN</td>\n      <td>NaN</td>\n      <td>91601</td>\n      <td>NaN</td>\n      <td>NaN</td>\n      <td>NaN</td>\n      <td>NaN</td>\n      <td>NaN</td>\n      <td>NaN</td>\n      <td>NaN</td>\n    </tr>\n    <tr>\n      <th>12355</th>\n      <td>CHILDREN'S CREATIVE LEARNING CENTERS AT EA - (...</td>\n      <td>NaN</td>\n      <td>NaN</td>\n      <td>650-628-2949</td>\n      <td>NaN</td>\n      <td>NaN</td>\n      <td>NaN</td>\n      <td>f</td>\n      <td>0.0</td>\n      <td>NaN</td>\n      <td>...</td>\n      <td>NaN</td>\n      <td>NaN</td>\n      <td>94065</td>\n      <td>NaN</td>\n      <td>NaN</td>\n      <td>NaN</td>\n      <td>NaN</td>\n      <td>NaN</td>\n      <td>NaN</td>\n      <td>NaN</td>\n    </tr>\n    <tr>\n      <th>12356</th>\n      <td>SAN FERNANDO EARLY EDUCATION CENTER</td>\n      <td>NaN</td>\n      <td>NaN</td>\n      <td>818-365-9105</td>\n      <td>NaN</td>\n      <td>NaN</td>\n      <td>NaN</td>\n      <td>f</td>\n      <td>0.0</td>\n      <td>NaN</td>\n      <td>...</td>\n      <td>NaN</td>\n      <td>NaN</td>\n      <td>91340</td>\n      <td>NaN</td>\n      <td>NaN</td>\n      <td>NaN</td>\n      <td>NaN</td>\n      <td>NaN</td>\n      <td>NaN</td>\n      <td>NaN</td>\n    </tr>\n  </tbody>\n</table>\n<p>12357 rows × 21 columns</p>\n</div>"
     },
     "metadata": {},
     "execution_count": 146
    }
   ]
  },
  {
   "cell_type": "code",
   "execution_count": 15,
   "metadata": {},
   "outputs": [],
   "source": [
    "#create col list\n",
    "age_cols = ['infant', 'toddler', 'preschool', 'school', 'facility_id']\n",
    "\n",
    "#combine infant,toddler,preschool... into one columnn what says which children the school accepts\n",
    "\n",
    "tx_cl['ages'] = tx_cl[age_cols].apply(lambda x: ','.join(x.index[x == 'Y']), axis=1)\n"
   ]
  },
  {
   "cell_type": "code",
   "execution_count": 16,
   "metadata": {},
   "outputs": [],
   "source": [
    "#get drop all age_cols:\n",
    "tx_cl = tx_cl.drop(age_cols, axis=1)"
   ]
  },
  {
   "cell_type": "code",
   "execution_count": 231,
   "metadata": {},
   "outputs": [],
   "source": [
    "# rearrange tx_cl columns to be in the same order as \n",
    "tx_cl = tx_cl[['school_name', 'phone_number', 'email', 'provider_type', 'address', 'city', 'state', 'zip','ages']]"
   ]
  },
  {
   "source": [
    "## Format any columns that don't match"
   ],
   "cell_type": "markdown",
   "metadata": {}
  },
  {
   "cell_type": "code",
   "execution_count": 110,
   "metadata": {},
   "outputs": [
    {
     "output_type": "execute_result",
     "data": {
      "text/plain": [
       "      operation_#                           school_name  \\\n",
       "13187     1526491                      Zorailyn Becerra   \n",
       "13188     1715417                            Zuba Habib   \n",
       "13189      866546                       Zulema Calderon   \n",
       "13190      543781                        Zulema Godfrey   \n",
       "13191      997866  Zweites Haus School Of Wimberley Llc   \n",
       "\n",
       "                      address         city state    zip  phone_number  \\\n",
       "13187     810 Enchanted Rock   San Antonio    TX  78260  210-571-9142   \n",
       "13188   1209 Canyon Creek Dr      Mckinney    TX  75072  214-310-7453   \n",
       "13189         3705 Exodus St       El Paso    TX  79936  915-329-3970   \n",
       "13190      3107 O W Curry Dr       Killeen    TX  76542  254-213-6194   \n",
       "13191  1500 Fischer Store Rd     Wimberley    TX  78676  512-847-7459   \n",
       "\n",
       "                              provider_type                      email  \\\n",
       "13187            Registered Child-Care Home                        Nan   \n",
       "13188            Registered Child-Care Home                        Nan   \n",
       "13189            Registered Child-Care Home                        Nan   \n",
       "13190            Registered Child-Care Home  Zulemagodfrey50@Gmail.Com   \n",
       "13191  Licensed Center - Child Care Program                        Nan   \n",
       "\n",
       "                                  ages  \n",
       "13187  Infant,Toddler,Preschool,School  \n",
       "13188  Infant,Toddler,Preschool,School  \n",
       "13189  Infant,Toddler,Preschool,School  \n",
       "13190  Infant,Toddler,Preschool,School  \n",
       "13191  Infant,Toddler,Preschool,School  "
      ],
      "text/html": "<div>\n<style scoped>\n    .dataframe tbody tr th:only-of-type {\n        vertical-align: middle;\n    }\n\n    .dataframe tbody tr th {\n        vertical-align: top;\n    }\n\n    .dataframe thead th {\n        text-align: right;\n    }\n</style>\n<table border=\"1\" class=\"dataframe\">\n  <thead>\n    <tr style=\"text-align: right;\">\n      <th></th>\n      <th>operation_#</th>\n      <th>school_name</th>\n      <th>address</th>\n      <th>city</th>\n      <th>state</th>\n      <th>zip</th>\n      <th>phone_number</th>\n      <th>provider_type</th>\n      <th>email</th>\n      <th>ages</th>\n    </tr>\n  </thead>\n  <tbody>\n    <tr>\n      <th>13187</th>\n      <td>1526491</td>\n      <td>Zorailyn Becerra</td>\n      <td>810 Enchanted Rock</td>\n      <td>San Antonio</td>\n      <td>TX</td>\n      <td>78260</td>\n      <td>210-571-9142</td>\n      <td>Registered Child-Care Home</td>\n      <td>Nan</td>\n      <td>Infant,Toddler,Preschool,School</td>\n    </tr>\n    <tr>\n      <th>13188</th>\n      <td>1715417</td>\n      <td>Zuba Habib</td>\n      <td>1209 Canyon Creek Dr</td>\n      <td>Mckinney</td>\n      <td>TX</td>\n      <td>75072</td>\n      <td>214-310-7453</td>\n      <td>Registered Child-Care Home</td>\n      <td>Nan</td>\n      <td>Infant,Toddler,Preschool,School</td>\n    </tr>\n    <tr>\n      <th>13189</th>\n      <td>866546</td>\n      <td>Zulema Calderon</td>\n      <td>3705 Exodus St</td>\n      <td>El Paso</td>\n      <td>TX</td>\n      <td>79936</td>\n      <td>915-329-3970</td>\n      <td>Registered Child-Care Home</td>\n      <td>Nan</td>\n      <td>Infant,Toddler,Preschool,School</td>\n    </tr>\n    <tr>\n      <th>13190</th>\n      <td>543781</td>\n      <td>Zulema Godfrey</td>\n      <td>3107 O W Curry Dr</td>\n      <td>Killeen</td>\n      <td>TX</td>\n      <td>76542</td>\n      <td>254-213-6194</td>\n      <td>Registered Child-Care Home</td>\n      <td>Zulemagodfrey50@Gmail.Com</td>\n      <td>Infant,Toddler,Preschool,School</td>\n    </tr>\n    <tr>\n      <th>13191</th>\n      <td>997866</td>\n      <td>Zweites Haus School Of Wimberley Llc</td>\n      <td>1500 Fischer Store Rd</td>\n      <td>Wimberley</td>\n      <td>TX</td>\n      <td>78676</td>\n      <td>512-847-7459</td>\n      <td>Licensed Center - Child Care Program</td>\n      <td>Nan</td>\n      <td>Infant,Toddler,Preschool,School</td>\n    </tr>\n  </tbody>\n</table>\n</div>"
     },
     "metadata": {},
     "execution_count": 110
    }
   ],
   "source": [
    "#format the columns all columns into title case to match template\n",
    "# tx_cl.str.title()\n",
    "\n",
    "tx_cl = tx_cl.apply(lambda x: x.astype(str).str.title())\n",
    "\n",
    "# turn the state column back into UPPER\n",
    "tx_cl.state = tx_cl.state.astype(str).str.upper()\n",
    "\n",
    "\n",
    "tx_cl['zip'] = pd.to_numeric(tx_cl['zip'], errors='coerce')\n",
    "tx_cl['zip'] = tx_cl['zip'].replace(np.nan, 0, regex=True)\n",
    "tx_cl['zip'] = tx_cl['zip'].astype(int)\n",
    "# tx_cl[~tx_cl['zip'].isnull()].astype(int)\n",
    "tx_cl.tail()"
   ]
  },
  {
   "cell_type": "code",
   "execution_count": 91,
   "metadata": {},
   "outputs": [
    {
     "output_type": "execute_result",
     "data": {
      "text/plain": [
       "      operation_#                           school_name  \\\n",
       "13187     1526491                      Zorailyn Becerra   \n",
       "13188     1715417                            Zuba Habib   \n",
       "13189      866546                       Zulema Calderon   \n",
       "13190      543781                        Zulema Godfrey   \n",
       "13191      997866  Zweites Haus School Of Wimberley Llc   \n",
       "\n",
       "                      address         city state      zip  phone_number  \\\n",
       "13187     810 Enchanted Rock   San Antonio    TX  78260.0  210-571-9142   \n",
       "13188   1209 Canyon Creek Dr      Mckinney    TX  75072.0  214-310-7453   \n",
       "13189         3705 Exodus St       El Paso    TX  79936.0  915-329-3970   \n",
       "13190      3107 O W Curry Dr       Killeen    TX  76542.0  254-213-6194   \n",
       "13191  1500 Fischer Store Rd     Wimberley    TX  78676.0  512-847-7459   \n",
       "\n",
       "                              provider_type                      email  \\\n",
       "13187            Registered Child-Care Home                        Nan   \n",
       "13188            Registered Child-Care Home                        Nan   \n",
       "13189            Registered Child-Care Home                        Nan   \n",
       "13190            Registered Child-Care Home  Zulemagodfrey50@Gmail.Com   \n",
       "13191  Licensed Center - Child Care Program                        Nan   \n",
       "\n",
       "                                  ages  \n",
       "13187  Infant,Toddler,Preschool,School  \n",
       "13188  Infant,Toddler,Preschool,School  \n",
       "13189  Infant,Toddler,Preschool,School  \n",
       "13190  Infant,Toddler,Preschool,School  \n",
       "13191  Infant,Toddler,Preschool,School  "
      ],
      "text/html": "<div>\n<style scoped>\n    .dataframe tbody tr th:only-of-type {\n        vertical-align: middle;\n    }\n\n    .dataframe tbody tr th {\n        vertical-align: top;\n    }\n\n    .dataframe thead th {\n        text-align: right;\n    }\n</style>\n<table border=\"1\" class=\"dataframe\">\n  <thead>\n    <tr style=\"text-align: right;\">\n      <th></th>\n      <th>operation_#</th>\n      <th>school_name</th>\n      <th>address</th>\n      <th>city</th>\n      <th>state</th>\n      <th>zip</th>\n      <th>phone_number</th>\n      <th>provider_type</th>\n      <th>email</th>\n      <th>ages</th>\n    </tr>\n  </thead>\n  <tbody>\n    <tr>\n      <th>13187</th>\n      <td>1526491</td>\n      <td>Zorailyn Becerra</td>\n      <td>810 Enchanted Rock</td>\n      <td>San Antonio</td>\n      <td>TX</td>\n      <td>78260.0</td>\n      <td>210-571-9142</td>\n      <td>Registered Child-Care Home</td>\n      <td>Nan</td>\n      <td>Infant,Toddler,Preschool,School</td>\n    </tr>\n    <tr>\n      <th>13188</th>\n      <td>1715417</td>\n      <td>Zuba Habib</td>\n      <td>1209 Canyon Creek Dr</td>\n      <td>Mckinney</td>\n      <td>TX</td>\n      <td>75072.0</td>\n      <td>214-310-7453</td>\n      <td>Registered Child-Care Home</td>\n      <td>Nan</td>\n      <td>Infant,Toddler,Preschool,School</td>\n    </tr>\n    <tr>\n      <th>13189</th>\n      <td>866546</td>\n      <td>Zulema Calderon</td>\n      <td>3705 Exodus St</td>\n      <td>El Paso</td>\n      <td>TX</td>\n      <td>79936.0</td>\n      <td>915-329-3970</td>\n      <td>Registered Child-Care Home</td>\n      <td>Nan</td>\n      <td>Infant,Toddler,Preschool,School</td>\n    </tr>\n    <tr>\n      <th>13190</th>\n      <td>543781</td>\n      <td>Zulema Godfrey</td>\n      <td>3107 O W Curry Dr</td>\n      <td>Killeen</td>\n      <td>TX</td>\n      <td>76542.0</td>\n      <td>254-213-6194</td>\n      <td>Registered Child-Care Home</td>\n      <td>Zulemagodfrey50@Gmail.Com</td>\n      <td>Infant,Toddler,Preschool,School</td>\n    </tr>\n    <tr>\n      <th>13191</th>\n      <td>997866</td>\n      <td>Zweites Haus School Of Wimberley Llc</td>\n      <td>1500 Fischer Store Rd</td>\n      <td>Wimberley</td>\n      <td>TX</td>\n      <td>78676.0</td>\n      <td>512-847-7459</td>\n      <td>Licensed Center - Child Care Program</td>\n      <td>Nan</td>\n      <td>Infant,Toddler,Preschool,School</td>\n    </tr>\n  </tbody>\n</table>\n</div>"
     },
     "metadata": {},
     "execution_count": 91
    }
   ],
   "source": [
    "tx_cl.tail()"
   ]
  },
  {
   "cell_type": "code",
   "execution_count": 66,
   "metadata": {},
   "outputs": [
    {
     "output_type": "execute_result",
     "data": {
      "text/plain": [
       "Empty DataFrame\n",
       "Columns: [school_name, address, city, state, zip, phone_number, provider_type, email, ages]\n",
       "Index: []"
      ],
      "text/html": "<div>\n<style scoped>\n    .dataframe tbody tr th:only-of-type {\n        vertical-align: middle;\n    }\n\n    .dataframe tbody tr th {\n        vertical-align: top;\n    }\n\n    .dataframe thead th {\n        text-align: right;\n    }\n</style>\n<table border=\"1\" class=\"dataframe\">\n  <thead>\n    <tr style=\"text-align: right;\">\n      <th></th>\n      <th>school_name</th>\n      <th>address</th>\n      <th>city</th>\n      <th>state</th>\n      <th>zip</th>\n      <th>phone_number</th>\n      <th>provider_type</th>\n      <th>email</th>\n      <th>ages</th>\n    </tr>\n    <tr>\n      <th>operation_#</th>\n      <th></th>\n      <th></th>\n      <th></th>\n      <th></th>\n      <th></th>\n      <th></th>\n      <th></th>\n      <th></th>\n      <th></th>\n    </tr>\n  </thead>\n  <tbody>\n  </tbody>\n</table>\n</div>"
     },
     "metadata": {},
     "execution_count": 66
    }
   ],
   "source": [
    "#check to see if there are duplicate names\n",
    "\n",
    "dups = tx_cl.groupby('operation_#').count()\n",
    "dups = dups[dups['address'] > 1]\n",
    "dups"
   ]
  },
  {
   "cell_type": "code",
   "execution_count": 111,
   "metadata": {},
   "outputs": [],
   "source": [
    "tx_cl.to_csv('texas_munchkin_1.csv', index=False)"
   ]
  },
  {
   "source": [
    "#### bring in websites and hours csv"
   ],
   "cell_type": "markdown",
   "metadata": {}
  },
  {
   "cell_type": "code",
   "execution_count": 112,
   "metadata": {},
   "outputs": [],
   "source": [
    "#get web and hours csv for the columns\n",
    "wah = pd.read_csv('TX_website_and_hours_scraped.csv')\n",
    "\n",
    "#ditch duplicate operation# rows\n",
    "\n",
    "wah.drop_duplicates(subset=['operation_#'],inplace=True)\n",
    "\n",
    "# wah.loc[0, 'operation_#'])\n",
    "# wah['operation_#'] = wah['operation_#'].astype(int)\n",
    "\n",
    "wah['operation_#'].dropna()\n",
    "wah['nullsers'] = wah['operation_#'].isnull()\n",
    "\n",
    "wah = wah[wah['nullsers'] == False ]\n",
    "\n",
    "wah['operation_#'] = wah['operation_#'].astype(int)\n",
    "\n",
    "wah.drop('nullsers', axis=1, inplace=True)"
   ]
  },
  {
   "cell_type": "code",
   "execution_count": 115,
   "metadata": {},
   "outputs": [
    {
     "output_type": "execute_result",
     "data": {
      "text/plain": [
       "numpy.int64"
      ]
     },
     "metadata": {},
     "execution_count": 115
    }
   ],
   "source": [
    "tx_cl['operation_#'] = tx_cl['operation_#'].astype(int)\n",
    "type(tx_cl.loc[0,'operation_#'])"
   ]
  },
  {
   "cell_type": "code",
   "execution_count": 116,
   "metadata": {},
   "outputs": [
    {
     "output_type": "execute_result",
     "data": {
      "text/plain": [
       "       operation_#                           school_name  \\\n",
       "13187      1526491                      Zorailyn Becerra   \n",
       "13188      1715417                            Zuba Habib   \n",
       "13189       866546                       Zulema Calderon   \n",
       "13190       543781                        Zulema Godfrey   \n",
       "13191       997866  Zweites Haus School Of Wimberley Llc   \n",
       "\n",
       "                      address         city state    zip  phone_number  \\\n",
       "13187     810 Enchanted Rock   San Antonio    TX  78260  210-571-9142   \n",
       "13188   1209 Canyon Creek Dr      Mckinney    TX  75072  214-310-7453   \n",
       "13189         3705 Exodus St       El Paso    TX  79936  915-329-3970   \n",
       "13190      3107 O W Curry Dr       Killeen    TX  76542  254-213-6194   \n",
       "13191  1500 Fischer Store Rd     Wimberley    TX  78676  512-847-7459   \n",
       "\n",
       "                              provider_type                      email  \\\n",
       "13187            Registered Child-Care Home                        Nan   \n",
       "13188            Registered Child-Care Home                        Nan   \n",
       "13189            Registered Child-Care Home                        Nan   \n",
       "13190            Registered Child-Care Home  Zulemagodfrey50@Gmail.Com   \n",
       "13191  Licensed Center - Child Care Program                        Nan   \n",
       "\n",
       "                                  ages              website_url  \\\n",
       "13187  Infant,Toddler,Preschool,School                      NaN   \n",
       "13188  Infant,Toddler,Preschool,School                      NaN   \n",
       "13189  Infant,Toddler,Preschool,School                      NaN   \n",
       "13190  Infant,Toddler,Preschool,School                      NaN   \n",
       "13191  Infant,Toddler,Preschool,School  www.learningandlove.com   \n",
       "\n",
       "                                     hours               days  \n",
       "13187    Monday - Friday 06:30 AM-06:00 PM    Monday - Friday  \n",
       "13188    Monday - Friday 07:15 AM-05:45 PM    Monday - Friday  \n",
       "13189  Monday - Saturday 07:00 AM-06:00 PM  Monday - Saturday  \n",
       "13190    Monday - Sunday 05:00 AM-07:30 PM    Monday - Sunday  \n",
       "13191    Monday - Friday 07:15 AM-06:00 PM    Monday - Friday  "
      ],
      "text/html": "<div>\n<style scoped>\n    .dataframe tbody tr th:only-of-type {\n        vertical-align: middle;\n    }\n\n    .dataframe tbody tr th {\n        vertical-align: top;\n    }\n\n    .dataframe thead th {\n        text-align: right;\n    }\n</style>\n<table border=\"1\" class=\"dataframe\">\n  <thead>\n    <tr style=\"text-align: right;\">\n      <th></th>\n      <th>operation_#</th>\n      <th>school_name</th>\n      <th>address</th>\n      <th>city</th>\n      <th>state</th>\n      <th>zip</th>\n      <th>phone_number</th>\n      <th>provider_type</th>\n      <th>email</th>\n      <th>ages</th>\n      <th>website_url</th>\n      <th>hours</th>\n      <th>days</th>\n    </tr>\n  </thead>\n  <tbody>\n    <tr>\n      <th>13187</th>\n      <td>1526491</td>\n      <td>Zorailyn Becerra</td>\n      <td>810 Enchanted Rock</td>\n      <td>San Antonio</td>\n      <td>TX</td>\n      <td>78260</td>\n      <td>210-571-9142</td>\n      <td>Registered Child-Care Home</td>\n      <td>Nan</td>\n      <td>Infant,Toddler,Preschool,School</td>\n      <td>NaN</td>\n      <td>Monday - Friday 06:30 AM-06:00 PM</td>\n      <td>Monday - Friday</td>\n    </tr>\n    <tr>\n      <th>13188</th>\n      <td>1715417</td>\n      <td>Zuba Habib</td>\n      <td>1209 Canyon Creek Dr</td>\n      <td>Mckinney</td>\n      <td>TX</td>\n      <td>75072</td>\n      <td>214-310-7453</td>\n      <td>Registered Child-Care Home</td>\n      <td>Nan</td>\n      <td>Infant,Toddler,Preschool,School</td>\n      <td>NaN</td>\n      <td>Monday - Friday 07:15 AM-05:45 PM</td>\n      <td>Monday - Friday</td>\n    </tr>\n    <tr>\n      <th>13189</th>\n      <td>866546</td>\n      <td>Zulema Calderon</td>\n      <td>3705 Exodus St</td>\n      <td>El Paso</td>\n      <td>TX</td>\n      <td>79936</td>\n      <td>915-329-3970</td>\n      <td>Registered Child-Care Home</td>\n      <td>Nan</td>\n      <td>Infant,Toddler,Preschool,School</td>\n      <td>NaN</td>\n      <td>Monday - Saturday 07:00 AM-06:00 PM</td>\n      <td>Monday - Saturday</td>\n    </tr>\n    <tr>\n      <th>13190</th>\n      <td>543781</td>\n      <td>Zulema Godfrey</td>\n      <td>3107 O W Curry Dr</td>\n      <td>Killeen</td>\n      <td>TX</td>\n      <td>76542</td>\n      <td>254-213-6194</td>\n      <td>Registered Child-Care Home</td>\n      <td>Zulemagodfrey50@Gmail.Com</td>\n      <td>Infant,Toddler,Preschool,School</td>\n      <td>NaN</td>\n      <td>Monday - Sunday 05:00 AM-07:30 PM</td>\n      <td>Monday - Sunday</td>\n    </tr>\n    <tr>\n      <th>13191</th>\n      <td>997866</td>\n      <td>Zweites Haus School Of Wimberley Llc</td>\n      <td>1500 Fischer Store Rd</td>\n      <td>Wimberley</td>\n      <td>TX</td>\n      <td>78676</td>\n      <td>512-847-7459</td>\n      <td>Licensed Center - Child Care Program</td>\n      <td>Nan</td>\n      <td>Infant,Toddler,Preschool,School</td>\n      <td>www.learningandlove.com</td>\n      <td>Monday - Friday 07:15 AM-06:00 PM</td>\n      <td>Monday - Friday</td>\n    </tr>\n  </tbody>\n</table>\n</div>"
     },
     "metadata": {},
     "execution_count": 116
    }
   ],
   "source": [
    "#merge the csvs\n",
    "# df1.merge(df2, how='left')\n",
    "\n",
    "texas_munchkin_2 = tx_cl.merge(wah, how='left')\n",
    "\n",
    "# texas_munchkin_2 = pd.merge(tx_cl, wah, left_on='operation_#')\n",
    "texas_munchkin_2.tail()"
   ]
  },
  {
   "cell_type": "code",
   "execution_count": 138,
   "metadata": {},
   "outputs": [],
   "source": [
    "#save newest version of texas_munchkin to csv\n",
    "#-m \"add websites and hours\"\n",
    "texas_munchkin_2.to_csv('texas_munchkin_2.csv', index=False)\n",
    "texas_munchkin_to_join = pd.read_csv('texas_munchkin_2.csv')\n",
    "\n",
    "# tx_cl = tx_cl.drop(age_cols, axis=1)\n",
    "texas_munchkin_to_join = texas_munchkin_to_join.drop(['operation_#','days'], axis=1)"
   ]
  },
  {
   "cell_type": "code",
   "execution_count": 149,
   "metadata": {},
   "outputs": [
    {
     "output_type": "execute_result",
     "data": {
      "text/plain": [
       "school_name      object\n",
       "address          object\n",
       "city             object\n",
       "state            object\n",
       "zip              object\n",
       "phone_number     object\n",
       "provider_type    object\n",
       "email            object\n",
       "ages             object\n",
       "website_url      object\n",
       "hours            object\n",
       "dtype: object"
      ]
     },
     "metadata": {},
     "execution_count": 149
    }
   ],
   "source": [
    "texas_munchkin_to_join['zip'] = texas_munchkin_to_join['zip'].astype(str)\n",
    "texas_munchkin_to_join.dtypes\n"
   ]
  },
  {
   "source": [
    "template_plus_tx = pd.merge(temp, texas_munchkin_to_join, how='outer')\n",
    "template_plus_tx.tail()"
   ],
   "cell_type": "code",
   "metadata": {},
   "execution_count": 154,
   "outputs": [
    {
     "output_type": "execute_result",
     "data": {
      "text/plain": [
       "                                school_name description  application_fee  \\\n",
       "25544                      Zorailyn Becerra         NaN              NaN   \n",
       "25545                            Zuba Habib         NaN              NaN   \n",
       "25546                       Zulema Calderon         NaN              NaN   \n",
       "25547                        Zulema Godfrey         NaN              NaN   \n",
       "25548  Zweites Haus School Of Wimberley Llc         NaN              NaN   \n",
       "\n",
       "       phone_number                      email              website_url  \\\n",
       "25544  210-571-9142                        Nan                      NaN   \n",
       "25545  214-310-7453                        Nan                      NaN   \n",
       "25546  915-329-3970                        Nan                      NaN   \n",
       "25547  254-213-6194  Zulemagodfrey50@Gmail.Com                      NaN   \n",
       "25548  512-847-7459                        Nan  www.learningandlove.com   \n",
       "\n",
       "       application due date is_accepting_applications  avg_waitlist_days  \\\n",
       "25544                   NaN                       NaN                NaN   \n",
       "25545                   NaN                       NaN                NaN   \n",
       "25546                   NaN                       NaN                NaN   \n",
       "25547                   NaN                       NaN                NaN   \n",
       "25548                   NaN                       NaN                NaN   \n",
       "\n",
       "                              provider_type  ...         city state    zip  \\\n",
       "25544            Registered Child-Care Home  ...  San Antonio    TX  78260   \n",
       "25545            Registered Child-Care Home  ...     Mckinney    TX  75072   \n",
       "25546            Registered Child-Care Home  ...      El Paso    TX  79936   \n",
       "25547            Registered Child-Care Home  ...      Killeen    TX  76542   \n",
       "25548  Licensed Center - Child Care Program  ...    Wimberley    TX  78676   \n",
       "\n",
       "      neighborhood                             ages is_full_time has_half_day  \\\n",
       "25544          NaN  Infant,Toddler,Preschool,School          NaN          NaN   \n",
       "25545          NaN  Infant,Toddler,Preschool,School          NaN          NaN   \n",
       "25546          NaN  Infant,Toddler,Preschool,School          NaN          NaN   \n",
       "25547          NaN  Infant,Toddler,Preschool,School          NaN          NaN   \n",
       "25548          NaN  Infant,Toddler,Preschool,School          NaN          NaN   \n",
       "\n",
       "      is_co_op is_part_time                                hours  \n",
       "25544      NaN          NaN    Monday - Friday 06:30 AM-06:00 PM  \n",
       "25545      NaN          NaN    Monday - Friday 07:15 AM-05:45 PM  \n",
       "25546      NaN          NaN  Monday - Saturday 07:00 AM-06:00 PM  \n",
       "25547      NaN          NaN    Monday - Sunday 05:00 AM-07:30 PM  \n",
       "25548      NaN          NaN    Monday - Friday 07:15 AM-06:00 PM  \n",
       "\n",
       "[5 rows x 21 columns]"
      ],
      "text/html": "<div>\n<style scoped>\n    .dataframe tbody tr th:only-of-type {\n        vertical-align: middle;\n    }\n\n    .dataframe tbody tr th {\n        vertical-align: top;\n    }\n\n    .dataframe thead th {\n        text-align: right;\n    }\n</style>\n<table border=\"1\" class=\"dataframe\">\n  <thead>\n    <tr style=\"text-align: right;\">\n      <th></th>\n      <th>school_name</th>\n      <th>description</th>\n      <th>application_fee</th>\n      <th>phone_number</th>\n      <th>email</th>\n      <th>website_url</th>\n      <th>application due date</th>\n      <th>is_accepting_applications</th>\n      <th>avg_waitlist_days</th>\n      <th>provider_type</th>\n      <th>...</th>\n      <th>city</th>\n      <th>state</th>\n      <th>zip</th>\n      <th>neighborhood</th>\n      <th>ages</th>\n      <th>is_full_time</th>\n      <th>has_half_day</th>\n      <th>is_co_op</th>\n      <th>is_part_time</th>\n      <th>hours</th>\n    </tr>\n  </thead>\n  <tbody>\n    <tr>\n      <th>25544</th>\n      <td>Zorailyn Becerra</td>\n      <td>NaN</td>\n      <td>NaN</td>\n      <td>210-571-9142</td>\n      <td>Nan</td>\n      <td>NaN</td>\n      <td>NaN</td>\n      <td>NaN</td>\n      <td>NaN</td>\n      <td>Registered Child-Care Home</td>\n      <td>...</td>\n      <td>San Antonio</td>\n      <td>TX</td>\n      <td>78260</td>\n      <td>NaN</td>\n      <td>Infant,Toddler,Preschool,School</td>\n      <td>NaN</td>\n      <td>NaN</td>\n      <td>NaN</td>\n      <td>NaN</td>\n      <td>Monday - Friday 06:30 AM-06:00 PM</td>\n    </tr>\n    <tr>\n      <th>25545</th>\n      <td>Zuba Habib</td>\n      <td>NaN</td>\n      <td>NaN</td>\n      <td>214-310-7453</td>\n      <td>Nan</td>\n      <td>NaN</td>\n      <td>NaN</td>\n      <td>NaN</td>\n      <td>NaN</td>\n      <td>Registered Child-Care Home</td>\n      <td>...</td>\n      <td>Mckinney</td>\n      <td>TX</td>\n      <td>75072</td>\n      <td>NaN</td>\n      <td>Infant,Toddler,Preschool,School</td>\n      <td>NaN</td>\n      <td>NaN</td>\n      <td>NaN</td>\n      <td>NaN</td>\n      <td>Monday - Friday 07:15 AM-05:45 PM</td>\n    </tr>\n    <tr>\n      <th>25546</th>\n      <td>Zulema Calderon</td>\n      <td>NaN</td>\n      <td>NaN</td>\n      <td>915-329-3970</td>\n      <td>Nan</td>\n      <td>NaN</td>\n      <td>NaN</td>\n      <td>NaN</td>\n      <td>NaN</td>\n      <td>Registered Child-Care Home</td>\n      <td>...</td>\n      <td>El Paso</td>\n      <td>TX</td>\n      <td>79936</td>\n      <td>NaN</td>\n      <td>Infant,Toddler,Preschool,School</td>\n      <td>NaN</td>\n      <td>NaN</td>\n      <td>NaN</td>\n      <td>NaN</td>\n      <td>Monday - Saturday 07:00 AM-06:00 PM</td>\n    </tr>\n    <tr>\n      <th>25547</th>\n      <td>Zulema Godfrey</td>\n      <td>NaN</td>\n      <td>NaN</td>\n      <td>254-213-6194</td>\n      <td>Zulemagodfrey50@Gmail.Com</td>\n      <td>NaN</td>\n      <td>NaN</td>\n      <td>NaN</td>\n      <td>NaN</td>\n      <td>Registered Child-Care Home</td>\n      <td>...</td>\n      <td>Killeen</td>\n      <td>TX</td>\n      <td>76542</td>\n      <td>NaN</td>\n      <td>Infant,Toddler,Preschool,School</td>\n      <td>NaN</td>\n      <td>NaN</td>\n      <td>NaN</td>\n      <td>NaN</td>\n      <td>Monday - Sunday 05:00 AM-07:30 PM</td>\n    </tr>\n    <tr>\n      <th>25548</th>\n      <td>Zweites Haus School Of Wimberley Llc</td>\n      <td>NaN</td>\n      <td>NaN</td>\n      <td>512-847-7459</td>\n      <td>Nan</td>\n      <td>www.learningandlove.com</td>\n      <td>NaN</td>\n      <td>NaN</td>\n      <td>NaN</td>\n      <td>Licensed Center - Child Care Program</td>\n      <td>...</td>\n      <td>Wimberley</td>\n      <td>TX</td>\n      <td>78676</td>\n      <td>NaN</td>\n      <td>Infant,Toddler,Preschool,School</td>\n      <td>NaN</td>\n      <td>NaN</td>\n      <td>NaN</td>\n      <td>NaN</td>\n      <td>Monday - Friday 07:15 AM-06:00 PM</td>\n    </tr>\n  </tbody>\n</table>\n<p>5 rows × 21 columns</p>\n</div>"
     },
     "metadata": {},
     "execution_count": 154
    }
   ]
  },
  {
   "cell_type": "code",
   "execution_count": 156,
   "metadata": {},
   "outputs": [],
   "source": [
    "#save TX with template\n",
    "template_plus_tx.to_csv('template_plus_tx', index=False) "
   ]
  },
  {
   "cell_type": "code",
   "execution_count": null,
   "metadata": {},
   "outputs": [],
   "source": [
    "#just incase it didn't save:\n",
    "\n",
    "website_hours_scraped = wah\n",
    "website_hours_scraped.drop_duplicates(subset=['operation_#'],inplace=True)\n",
    "website_hours_scraped.tail()\n",
    "\n",
    "\n",
    "website_hours_scraped.to_csv('./TX_website_and_hours_scraped.csv', index=False)\n",
    "website_hours_scraped.tail()"
   ]
  },
  {
   "cell_type": "code",
   "execution_count": null,
   "metadata": {},
   "outputs": [],
   "source": []
  },
  {
   "source": [
    "#change \"operation\" to \"school_name\"\n",
    "#List of things to fix:\n",
    "#CHECK ages\n",
    "#CHECK put in order\n",
    "\n",
    "#deliver easy texas parts\n",
    "#List of cols I need to scrape still:\n",
    "\n",
    "#1. application_fee\n",
    "#2. *website\n",
    "#3. 'application due date'\n",
    "#4. is_accepting_applications\n",
    "#5. avg_waitlist_days\n",
    "#6. CHECK provider_type\n",
    "#7. neighborhood\n",
    "#8. is_full_time\n",
    "#9. has_half_day\n",
    "#10. is_co_op\n",
    "#11. is_part_time( do last)\n",
    "#12. bring county down to neighborhood\n",
    "#13. CHECK melt ages with preschool toddler...\n",
    "#14. *get the hours\n",
    "#15 make sure you have all certified and non certified\n",
    "#16. check to see if there are extra child_care options on TX\n",
    "\n",
    "#Q'S FOR ANNA: \n",
    "# half day vs part time?\n",
    "# do you want other TX place?\n"
   ],
   "cell_type": "code",
   "metadata": {},
   "execution_count": null,
   "outputs": []
  }
 ]
}